{
  "nbformat": 4,
  "nbformat_minor": 0,
  "metadata": {
    "colab": {
      "provenance": []
    },
    "kernelspec": {
      "name": "python3",
      "display_name": "Python 3"
    },
    "language_info": {
      "name": "python"
    }
  },
  "cells": [
    {
      "cell_type": "code",
      "execution_count": null,
      "metadata": {
        "colab": {
          "base_uri": "https://localhost:8080/"
        },
        "id": "uf4FQcvDlqUz",
        "outputId": "e2228d5f-e6fd-4e7e-a5e7-b38abe502800"
      },
      "outputs": [
        {
          "output_type": "stream",
          "name": "stdout",
          "text": [
            "Requirement already satisfied: cryptography in /usr/local/lib/python3.10/dist-packages (43.0.3)\n",
            "Requirement already satisfied: cffi>=1.12 in /usr/local/lib/python3.10/dist-packages (from cryptography) (1.17.1)\n",
            "Requirement already satisfied: pycparser in /usr/local/lib/python3.10/dist-packages (from cffi>=1.12->cryptography) (2.22)\n"
          ]
        }
      ],
      "source": [
        "pip install cryptography"
      ]
    },
    {
      "cell_type": "code",
      "source": [
        "import random\n",
        "import time\n",
        "from cryptography.fernet import Fernet\n",
        "\n",
        "# Step 1: Sensor simulation - Random data generation\n",
        "def sensor_data():\n",
        "    \"\"\"Simulate sensor data with some normal and abnormal values\"\"\"\n",
        "    # Normal data: 100-150, Abnormal data: > 150 (simulating a theft or malfunction)\n",
        "    return random.randint(100, 200)\n",
        "\n",
        "# Step 2: Data Processing - Anomaly detection\n",
        "def analyze_data(data):\n",
        "    \"\"\"Detect anomaly if data exceeds a certain threshold\"\"\"\n",
        "    threshold = 150  # Anomaly threshold\n",
        "    if data > threshold:\n",
        "        return \"ALERT: Potential cyber theft detected!\"\n",
        "    else:\n",
        "        return \"System Normal\"\n",
        "\n",
        "# Step 3: Cybersecurity Module - Simple encryption and decryption\n",
        "def generate_key():\n",
        "    \"\"\"Generate encryption key\"\"\"\n",
        "    return Fernet.generate_key()\n",
        "\n",
        "def encrypt_data(data, key):\n",
        "    \"\"\"Encrypt data\"\"\"\n",
        "    fernet = Fernet(key)\n",
        "    encrypted_data = fernet.encrypt(data.encode())\n",
        "    return encrypted_data\n",
        "\n",
        "def decrypt_data(encrypted_data, key):\n",
        "    \"\"\"Decrypt data\"\"\"\n",
        "    fernet = Fernet(key)\n",
        "    decrypted_data = fernet.decrypt(encrypted_data).decode()\n",
        "    return decrypted_data\n",
        "\n",
        "# Step 4: Control Unit - Take action based on the detected anomaly\n",
        "def control_action(status):\n",
        "    \"\"\"Take control action based on system status\"\"\"\n",
        "    if \"ALERT\" in status:\n",
        "        return \"Initiating Countermeasures: Lockdown system!\"\n",
        "    else:\n",
        "        return \"System running smoothly.\"\n",
        "\n",
        "# Step 5: User Interface - Console-based status reporting\n",
        "def display_ui(max_iterations=10):\n",
        "    \"\"\"Display the status and allow user to interact\"\"\"\n",
        "    # Simulate key generation for encryption\n",
        "    key = generate_key()\n",
        "\n",
        "    print(\"Cyber-Physical System - Security Monitor\\n\")\n",
        "    for _ in range(max_iterations):\n",
        "        print(\"\\nFetching sensor data...\")\n",
        "        data = sensor_data()\n",
        "        print(f\"Sensor Data: {data}\")\n",
        "\n",
        "        # Encrypt the data for cybersecurity\n",
        "        encrypted_data = encrypt_data(str(data), key)\n",
        "        print(f\"Encrypted Data: {encrypted_data}\")\n",
        "\n",
        "        # Analyze data and detect anomalies\n",
        "        analysis = analyze_data(data)\n",
        "        print(f\"Analysis: {analysis}\")\n",
        "\n",
        "        # Decrypt and display the data (for demonstration purposes)\n",
        "        decrypted_data = decrypt_data(encrypted_data, key)\n",
        "        print(f\"Decrypted Data: {decrypted_data}\")\n",
        "\n",
        "        # Control system action based on the analysis\n",
        "        control_status = control_action(analysis)\n",
        "        print(f\"Control Action: {control_status}\")\n",
        "\n",
        "        # Sleep for a while to simulate system monitoring cycle\n",
        "        time.sleep(3)  # Simulate periodic data fetching every 3 seconds\n",
        "\n",
        "    print(\"\\nMonitoring session completed.\")\n",
        "\n",
        "\n",
        "# Run the user interface\n",
        "if __name__ == \"__main__\":\n",
        "    display_ui()\n"
      ],
      "metadata": {
        "colab": {
          "base_uri": "https://localhost:8080/"
        },
        "id": "AdNYEkmUlxuJ",
        "outputId": "efcbd84a-1e75-4306-9791-0e097013331f"
      },
      "execution_count": null,
      "outputs": [
        {
          "output_type": "stream",
          "name": "stdout",
          "text": [
            "Cyber-Physical System - Security Monitor\n",
            "\n",
            "\n",
            "Fetching sensor data...\n",
            "Sensor Data: 109\n",
            "Encrypted Data: b'gAAAAABnTsd5WwCBkIdJoRaUjrV22xI4Kd0Kab7ErcZ842AOZ07nQZScHcy8TEvyWNy9-itCke81YOd9Lb7qYGevXwnqxbDHdw=='\n",
            "Analysis: System Normal\n",
            "Decrypted Data: 109\n",
            "Control Action: System running smoothly.\n",
            "\n",
            "Fetching sensor data...\n",
            "Sensor Data: 106\n",
            "Encrypted Data: b'gAAAAABnTsd8dksyu6qmr7CeYhQ3fTNpY-TxO914opxMDE9m_SS6iSabSrsd8x_H73u_cYDrfZo6fZjzSKFzKZMQnxV07yHAIg=='\n",
            "Analysis: System Normal\n",
            "Decrypted Data: 106\n",
            "Control Action: System running smoothly.\n",
            "\n",
            "Fetching sensor data...\n",
            "Sensor Data: 138\n",
            "Encrypted Data: b'gAAAAABnTsd_6CZXOyBPSZuLnoGl1HGdnG2NKjPbhR-IOv7jGCmTzTURGEfglenGt0ZHuHVBk7S7zS2PwbWG9mRSVjUsDXaAVg=='\n",
            "Analysis: System Normal\n",
            "Decrypted Data: 138\n",
            "Control Action: System running smoothly.\n",
            "\n",
            "Fetching sensor data...\n",
            "Sensor Data: 116\n",
            "Encrypted Data: b'gAAAAABnTseC04yUf9h1s-93SY4pYxxWZ-TlwQhdgnJZ_dmAbcyLxFBjgTLd5RLVX7eg-kVSDj15LAZ5RRpxR78PQUwuA2d7JQ=='\n",
            "Analysis: System Normal\n",
            "Decrypted Data: 116\n",
            "Control Action: System running smoothly.\n",
            "\n",
            "Fetching sensor data...\n",
            "Sensor Data: 193\n",
            "Encrypted Data: b'gAAAAABnTseFl3HNFoAGOCtvbZXfO7l46j5WusNbD4zemQRmKrbWtraNVMdzG9JLOw0mq4pWeBlpkPTUclskRodw8U2lMRw7NQ=='\n",
            "Analysis: ALERT: Potential cyber theft detected!\n",
            "Decrypted Data: 193\n",
            "Control Action: Initiating Countermeasures: Lockdown system!\n",
            "\n",
            "Fetching sensor data...\n",
            "Sensor Data: 167\n",
            "Encrypted Data: b'gAAAAABnTseIVqgMc5z9hyV_RQxYgKEAtD02p3Kg7emrNuhLgMAPeivhFhY96rhVHnyEz7vTomCG0bmK5FhA0_hsGg_7wFdOVQ=='\n",
            "Analysis: ALERT: Potential cyber theft detected!\n",
            "Decrypted Data: 167\n",
            "Control Action: Initiating Countermeasures: Lockdown system!\n",
            "\n",
            "Fetching sensor data...\n",
            "Sensor Data: 117\n",
            "Encrypted Data: b'gAAAAABnTseLYp-mrNz1qJQifjtI2NoPSmv3Ijv30b_xuusDMMzlvzknRlTtHdBG_1QPcpizrGVa-UYLwVOKRInN5StI8H4umQ=='\n",
            "Analysis: System Normal\n",
            "Decrypted Data: 117\n",
            "Control Action: System running smoothly.\n",
            "\n",
            "Fetching sensor data...\n",
            "Sensor Data: 122\n",
            "Encrypted Data: b'gAAAAABnTseONj2SrpHIUf6nOjUJ--n-cuhRLl8MFdAe3zeTlVklp2JX0NwG34Ap0VtrlKKEagvyVvOetB9L6bWQ-Q-koIuDfw=='\n",
            "Analysis: System Normal\n",
            "Decrypted Data: 122\n",
            "Control Action: System running smoothly.\n",
            "\n",
            "Fetching sensor data...\n",
            "Sensor Data: 177\n",
            "Encrypted Data: b'gAAAAABnTseRTiZuLDu-ojf7ExLNpY4J7vY-eXucVZ0kVRPtm6TNIvuLfQ7sPJ58xdnqkskagWlBlcPhdnUSNx-Btc5YSOvijA=='\n",
            "Analysis: ALERT: Potential cyber theft detected!\n",
            "Decrypted Data: 177\n",
            "Control Action: Initiating Countermeasures: Lockdown system!\n",
            "\n",
            "Fetching sensor data...\n",
            "Sensor Data: 173\n",
            "Encrypted Data: b'gAAAAABnTseUmC8aabqaJmqrt84IX0-4BMLcysUV6rb6N3pCd8r1MwKKARs_jdVft6BqfMHvjL6rU6tC5199jLC5Jp7I7TaUCQ=='\n",
            "Analysis: ALERT: Potential cyber theft detected!\n",
            "Decrypted Data: 173\n",
            "Control Action: Initiating Countermeasures: Lockdown system!\n",
            "\n",
            "Monitoring session completed.\n"
          ]
        }
      ]
    },
    {
      "cell_type": "code",
      "source": [
        "pip install matplotlib\n"
      ],
      "metadata": {
        "colab": {
          "base_uri": "https://localhost:8080/"
        },
        "id": "4k7S117BmbcP",
        "outputId": "188639c8-6674-4902-91af-af591dc01ae1"
      },
      "execution_count": null,
      "outputs": [
        {
          "output_type": "stream",
          "name": "stdout",
          "text": [
            "Requirement already satisfied: matplotlib in /usr/local/lib/python3.10/dist-packages (3.8.0)\n",
            "Requirement already satisfied: contourpy>=1.0.1 in /usr/local/lib/python3.10/dist-packages (from matplotlib) (1.3.1)\n",
            "Requirement already satisfied: cycler>=0.10 in /usr/local/lib/python3.10/dist-packages (from matplotlib) (0.12.1)\n",
            "Requirement already satisfied: fonttools>=4.22.0 in /usr/local/lib/python3.10/dist-packages (from matplotlib) (4.55.0)\n",
            "Requirement already satisfied: kiwisolver>=1.0.1 in /usr/local/lib/python3.10/dist-packages (from matplotlib) (1.4.7)\n",
            "Requirement already satisfied: numpy<2,>=1.21 in /usr/local/lib/python3.10/dist-packages (from matplotlib) (1.26.4)\n",
            "Requirement already satisfied: packaging>=20.0 in /usr/local/lib/python3.10/dist-packages (from matplotlib) (24.2)\n",
            "Requirement already satisfied: pillow>=6.2.0 in /usr/local/lib/python3.10/dist-packages (from matplotlib) (11.0.0)\n",
            "Requirement already satisfied: pyparsing>=2.3.1 in /usr/local/lib/python3.10/dist-packages (from matplotlib) (3.2.0)\n",
            "Requirement already satisfied: python-dateutil>=2.7 in /usr/local/lib/python3.10/dist-packages (from matplotlib) (2.8.2)\n",
            "Requirement already satisfied: six>=1.5 in /usr/local/lib/python3.10/dist-packages (from python-dateutil>=2.7->matplotlib) (1.16.0)\n"
          ]
        }
      ]
    },
    {
      "cell_type": "code",
      "source": [
        "import matplotlib.pyplot as plt\n",
        "from collections import deque\n",
        "\n",
        "# Step 1: Visualization Setup\n",
        "def initialize_plot():\n",
        "    \"\"\"Initialize the live plot\"\"\"\n",
        "    plt.ion()  # Interactive mode on\n",
        "    fig, ax = plt.subplots()\n",
        "    ax.set_title(\"Cyber-Physical System Monitoring\")\n",
        "    ax.set_xlabel(\"Time\")\n",
        "    ax.set_ylabel(\"Sensor Data\")\n",
        "    ax.grid(True)\n",
        "    return fig, ax\n",
        "\n",
        "def update_plot(ax, x_data, y_data, thresholds):\n",
        "    \"\"\"Update the plot with new data\"\"\"\n",
        "    ax.clear()\n",
        "    ax.plot(x_data, y_data, label=\"Sensor Data\", color=\"blue\")\n",
        "    ax.axhline(thresholds, color=\"red\", linestyle=\"--\", label=\"Threshold (150)\")\n",
        "    ax.set_title(\"Cyber-Physical System Monitoring\")\n",
        "    ax.set_xlabel(\"Time\")\n",
        "    ax.set_ylabel(\"Sensor Data\")\n",
        "    ax.legend()\n",
        "    ax.grid(True)\n",
        "    plt.draw()\n",
        "    plt.pause(0.1)\n",
        "\n",
        "# Example usage\n",
        "if __name__ == \"__main__\":\n",
        "    fig, ax = initialize_plot()\n",
        "    x_data = deque(maxlen=20)  # Time points\n",
        "    y_data = deque(maxlen=20)  # Sensor readings\n",
        "    time_counter = 0\n",
        "\n",
        "    for i in range(50):  # Simulate 50 data points\n",
        "        sensor_value = 100 + i % 50  # Example data pattern\n",
        "        x_data.append(time_counter)\n",
        "        y_data.append(sensor_value)\n",
        "        time_counter += 1\n",
        "\n",
        "        update_plot(ax, x_data, y_data, thresholds=150)\n",
        "        plt.pause(0.5)  # Simulate data arriving every 0.5 seconds\n"
      ],
      "metadata": {
        "colab": {
          "base_uri": "https://localhost:8080/",
          "height": 1000
        },
        "id": "z65EsHSnmlA5",
        "outputId": "dd4321fc-79df-40a7-f7c2-dce8eefc6002"
      },
      "execution_count": null,
      "outputs": [
        {
          "output_type": "display_data",
          "data": {
            "text/plain": [
              "<Figure size 640x480 with 1 Axes>"
            ],
            "image/png": "[encoded data removed]"
          },
          "metadata": {}
        },
        {
          "output_type": "display_data",
          "data": {
            "text/plain": [
              "<Figure size 640x480 with 0 Axes>"
            ]
          },
          "metadata": {}
        },
        {
          "output_type": "display_data",
          "data": {
            "text/plain": [
              "<Figure size 640x480 with 0 Axes>"
            ]
          },
          "metadata": {}
        },
        {
          "output_type": "display_data",
          "data": {
            "text/plain": [
              "<Figure size 640x480 with 0 Axes>"
            ]
          },
          "metadata": {}
        },
        {
          "output_type": "display_data",
          "data": {
            "text/plain": [
              "<Figure size 640x480 with 0 Axes>"
            ]
          },
          "metadata": {}
        },
        {
          "output_type": "display_data",
          "data": {
            "text/plain": [
              "<Figure size 640x480 with 0 Axes>"
            ]
          },
          "metadata": {}
        },
        {
          "output_type": "display_data",
          "data": {
            "text/plain": [
              "<Figure size 640x480 with 0 Axes>"
            ]
          },
          "metadata": {}
        },
        {
          "output_type": "display_data",
          "data": {
            "text/plain": [
              "<Figure size 640x480 with 0 Axes>"
            ]
          },
          "metadata": {}
        },
        {
          "output_type": "display_data",
          "data": {
            "text/plain": [
              "<Figure size 640x480 with 0 Axes>"
            ]
          },
          "metadata": {}
        },
        {
          "output_type": "display_data",
          "data": {
            "text/plain": [
              "<Figure size 640x480 with 0 Axes>"
            ]
          },
          "metadata": {}
        },
        {
          "output_type": "display_data",
          "data": {
            "text/plain": [
              "<Figure size 640x480 with 0 Axes>"
            ]
          },
          "metadata": {}
        },
        {
          "output_type": "display_data",
          "data": {
            "text/plain": [
              "<Figure size 640x480 with 0 Axes>"
            ]
          },
          "metadata": {}
        },
        {
          "output_type": "display_data",
          "data": {
            "text/plain": [
              "<Figure size 640x480 with 0 Axes>"
            ]
          },
          "metadata": {}
        },
        {
          "output_type": "display_data",
          "data": {
            "text/plain": [
              "<Figure size 640x480 with 0 Axes>"
            ]
          },
          "metadata": {}
        },
        {
          "output_type": "display_data",
          "data": {
            "text/plain": [
              "<Figure size 640x480 with 0 Axes>"
            ]
          },
          "metadata": {}
        },
        {
          "output_type": "display_data",
          "data": {
            "text/plain": [
              "<Figure size 640x480 with 0 Axes>"
            ]
          },
          "metadata": {}
        },
        {
          "output_type": "display_data",
          "data": {
            "text/plain": [
              "<Figure size 640x480 with 0 Axes>"
            ]
          },
          "metadata": {}
        },
        {
          "output_type": "display_data",
          "data": {
            "text/plain": [
              "<Figure size 640x480 with 0 Axes>"
            ]
          },
          "metadata": {}
        },
        {
          "output_type": "display_data",
          "data": {
            "text/plain": [
              "<Figure size 640x480 with 0 Axes>"
            ]
          },
          "metadata": {}
        },
        {
          "output_type": "display_data",
          "data": {
            "text/plain": [
              "<Figure size 640x480 with 0 Axes>"
            ]
          },
          "metadata": {}
        },
        {
          "output_type": "display_data",
          "data": {
            "text/plain": [
              "<Figure size 640x480 with 0 Axes>"
            ]
          },
          "metadata": {}
        },
        {
          "output_type": "display_data",
          "data": {
            "text/plain": [
              "<Figure size 640x480 with 0 Axes>"
            ]
          },
          "metadata": {}
        },
        {
          "output_type": "display_data",
          "data": {
            "text/plain": [
              "<Figure size 640x480 with 0 Axes>"
            ]
          },
          "metadata": {}
        },
        {
          "output_type": "display_data",
          "data": {
            "text/plain": [
              "<Figure size 640x480 with 0 Axes>"
            ]
          },
          "metadata": {}
        },
        {
          "output_type": "display_data",
          "data": {
            "text/plain": [
              "<Figure size 640x480 with 0 Axes>"
            ]
          },
          "metadata": {}
        },
        {
          "output_type": "display_data",
          "data": {
            "text/plain": [
              "<Figure size 640x480 with 0 Axes>"
            ]
          },
          "metadata": {}
        },
        {
          "output_type": "display_data",
          "data": {
            "text/plain": [
              "<Figure size 640x480 with 0 Axes>"
            ]
          },
          "metadata": {}
        },
        {
          "output_type": "display_data",
          "data": {
            "text/plain": [
              "<Figure size 640x480 with 0 Axes>"
            ]
          },
          "metadata": {}
        },
        {
          "output_type": "display_data",
          "data": {
            "text/plain": [
              "<Figure size 640x480 with 0 Axes>"
            ]
          },
          "metadata": {}
        },
        {
          "output_type": "display_data",
          "data": {
            "text/plain": [
              "<Figure size 640x480 with 0 Axes>"
            ]
          },
          "metadata": {}
        },
        {
          "output_type": "display_data",
          "data": {
            "text/plain": [
              "<Figure size 640x480 with 0 Axes>"
            ]
          },
          "metadata": {}
        },
        {
          "output_type": "display_data",
          "data": {
            "text/plain": [
              "<Figure size 640x480 with 0 Axes>"
            ]
          },
          "metadata": {}
        },
        {
          "output_type": "display_data",
          "data": {
            "text/plain": [
              "<Figure size 640x480 with 0 Axes>"
            ]
          },
          "metadata": {}
        },
        {
          "output_type": "display_data",
          "data": {
            "text/plain": [
              "<Figure size 640x480 with 0 Axes>"
            ]
          },
          "metadata": {}
        },
        {
          "output_type": "display_data",
          "data": {
            "text/plain": [
              "<Figure size 640x480 with 0 Axes>"
            ]
          },
          "metadata": {}
        },
        {
          "output_type": "display_data",
          "data": {
            "text/plain": [
              "<Figure size 640x480 with 0 Axes>"
            ]
          },
          "metadata": {}
        },
        {
          "output_type": "display_data",
          "data": {
            "text/plain": [
              "<Figure size 640x480 with 0 Axes>"
            ]
          },
          "metadata": {}
        },
        {
          "output_type": "display_data",
          "data": {
            "text/plain": [
              "<Figure size 640x480 with 0 Axes>"
            ]
          },
          "metadata": {}
        },
        {
          "output_type": "display_data",
          "data": {
            "text/plain": [
              "<Figure size 640x480 with 0 Axes>"
            ]
          },
          "metadata": {}
        },
        {
          "output_type": "display_data",
          "data": {
            "text/plain": [
              "<Figure size 640x480 with 0 Axes>"
            ]
          },
          "metadata": {}
        },
        {
          "output_type": "display_data",
          "data": {
            "text/plain": [
              "<Figure size 640x480 with 0 Axes>"
            ]
          },
          "metadata": {}
        },
        {
          "output_type": "display_data",
          "data": {
            "text/plain": [
              "<Figure size 640x480 with 0 Axes>"
            ]
          },
          "metadata": {}
        },
        {
          "output_type": "display_data",
          "data": {
            "text/plain": [
              "<Figure size 640x480 with 0 Axes>"
            ]
          },
          "metadata": {}
        },
        {
          "output_type": "display_data",
          "data": {
            "text/plain": [
              "<Figure size 640x480 with 0 Axes>"
            ]
          },
          "metadata": {}
        },
        {
          "output_type": "display_data",
          "data": {
            "text/plain": [
              "<Figure size 640x480 with 0 Axes>"
            ]
          },
          "metadata": {}
        },
        {
          "output_type": "display_data",
          "data": {
            "text/plain": [
              "<Figure size 640x480 with 0 Axes>"
            ]
          },
          "metadata": {}
        },
        {
          "output_type": "display_data",
          "data": {
            "text/plain": [
              "<Figure size 640x480 with 0 Axes>"
            ]
          },
          "metadata": {}
        },
        {
          "output_type": "display_data",
          "data": {
            "text/plain": [
              "<Figure size 640x480 with 0 Axes>"
            ]
          },
          "metadata": {}
        },
        {
          "output_type": "display_data",
          "data": {
            "text/plain": [
              "<Figure size 640x480 with 0 Axes>"
            ]
          },
          "metadata": {}
        },
        {
          "output_type": "display_data",
          "data": {
            "text/plain": [
              "<Figure size 640x480 with 0 Axes>"
            ]
          },
          "metadata": {}
        }
      ]
    }
  ]
}